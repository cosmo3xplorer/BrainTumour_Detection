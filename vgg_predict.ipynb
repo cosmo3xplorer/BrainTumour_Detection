{
 "cells": [
  {
   "cell_type": "code",
   "execution_count": 32,
   "id": "cde7977c",
   "metadata": {},
   "outputs": [],
   "source": [
    "import numpy as np\n",
    "import pandas as pd\n",
    "import torch\n",
    "import keras\n",
    "import os, gc, pathlib\n",
    "from sklearn.metrics import confusion_matrix\n",
    "from fastai import *\n",
    "from fastai.vision.all import *\n",
    "from fastai.tabular.all import *\n",
    "from fastai.text.all import *\n",
    "#from fastai.medical.imaging import *\n",
    "from fastai.vision.data import ImageDataLoaders\n",
    "from fastai.vision.models import *\n",
    "import torchvision.models as models\n",
    "from fastai.callback.schedule import lr_find\n",
    "from fastai.callback.schedule import *\n",
    "from matplotlib import pyplot as plt\n",
    "from fastai.imports import *\n",
    "from fastai.torch_core import *\n",
    "from fastai.learner import *"
   ]
  },
  {
   "cell_type": "code",
   "execution_count": 33,
   "id": "ae077e8e",
   "metadata": {},
   "outputs": [],
   "source": [
    "learner=load_learner(\"C:\\\\Users\\\\Rajarshi\\\\Desktop\\\\python_project\\\\pre_train\\\\vgg\\\\trained1\\\\brain_tumor_classific.pkl\")"
   ]
  },
  {
   "cell_type": "code",
   "execution_count": 34,
   "id": "e5b1dcf1",
   "metadata": {},
   "outputs": [],
   "source": [
    "def is_true(x):\n",
    "    if x[0]=='yes':\n",
    "        return \"Tumor detected.\"\n",
    "    else:\n",
    "        return \"Tumor not detected.\""
   ]
  },
  {
   "cell_type": "code",
   "execution_count": 41,
   "id": "844a1cda",
   "metadata": {},
   "outputs": [],
   "source": [
    "img=PILImage.create(f\"C:\\\\Users\\\\Rajarshi\\\\Desktop\\\\python_project\\\\samples\\\\yes\\\\y182.jpg\")"
   ]
  },
  {
   "cell_type": "code",
   "execution_count": 42,
   "id": "34d4c405",
   "metadata": {},
   "outputs": [
    {
     "data": {
      "text/html": [],
      "text/plain": [
       "<IPython.core.display.HTML object>"
      ]
     },
     "metadata": {},
     "output_type": "display_data"
    }
   ],
   "source": [
    "x=learner.predict(img)"
   ]
  },
  {
   "cell_type": "code",
   "execution_count": 46,
   "id": "e346adce",
   "metadata": {},
   "outputs": [
    {
     "name": "stdout",
     "output_type": "stream",
     "text": [
      "Test Result: Tumor detected. \n",
      "Probability: tensor([1.5156e-05, 9.9998e-01])\n"
     ]
    }
   ],
   "source": [
    "print(\"Test Result:\",is_true(x),\"\\nProbability:\",x[2])"
   ]
  }
 ],
 "metadata": {
  "kernelspec": {
   "display_name": "Python 3",
   "language": "python",
   "name": "python3"
  },
  "language_info": {
   "codemirror_mode": {
    "name": "ipython",
    "version": 3
   },
   "file_extension": ".py",
   "mimetype": "text/x-python",
   "name": "python",
   "nbconvert_exporter": "python",
   "pygments_lexer": "ipython3",
   "version": "3.9.6"
  }
 },
 "nbformat": 4,
 "nbformat_minor": 5
}
