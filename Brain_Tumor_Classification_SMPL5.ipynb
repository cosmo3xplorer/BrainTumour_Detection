{
  "nbformat": 4,
  "nbformat_minor": 0,
  "metadata": {
    "colab": {
      "name": "Brain_Tumor_Classification_SMPL5.ipynb",
      "private_outputs": true,
      "provenance": [],
      "collapsed_sections": [],
      "mount_file_id": "1L1orddbGy3pqQ4ZXFjcSdJagiXQ_sR1q",
      "authorship_tag": "ABX9TyNo7Kb6o9y6RIqkKKgFbZ1A",
      "include_colab_link": true
    },
    "kernelspec": {
      "name": "python3",
      "display_name": "Python 3"
    },
    "language_info": {
      "name": "python"
    },
    "accelerator": "GPU"
  },
  "cells": [
    {
      "cell_type": "markdown",
      "metadata": {
        "id": "view-in-github",
        "colab_type": "text"
      },
      "source": [
        "<a href=\"https://colab.research.google.com/github/cosmo3xplorer/BrainTumour_Detection/blob/main/Brain_Tumor_Classification_SMPL5.ipynb\" target=\"_parent\"><img src=\"https://colab.research.google.com/assets/colab-badge.svg\" alt=\"Open In Colab\"/></a>"
      ]
    },
    {
      "cell_type": "code",
      "metadata": {
        "id": "2iB24nLfQ2uC"
      },
      "source": [
        "import numpy as np\n",
        "import pandas as pd\n",
        "import torch\n",
        "import keras\n",
        "import os, gc, pathlib\n",
        "from sklearn.metrics import confusion_matrix\n",
        "from fastai import *\n",
        "from fastai.vision.all import *\n",
        "from fastai.tabular.all import *\n",
        "from fastai.text.all import *\n",
        "#from fastai.medical.imaging import *\n",
        "from fastai.vision.data import ImageDataLoaders\n",
        "from fastai.vision.models import *\n",
        "import torchvision.models as models\n",
        "from fastai.callback.schedule import lr_find\n",
        "from fastai.callback.schedule import *\n",
        "from matplotlib import pyplot as plt\n",
        "from fastai.imports import *\n",
        "from fastai.torch_core import *\n",
        "from fastai.learner import *"
      ],
      "execution_count": null,
      "outputs": []
    },
    {
      "cell_type": "code",
      "metadata": {
        "id": "VRxxD8q4SkhZ"
      },
      "source": [
        "print(os.listdir(\"/content/drive/MyDrive/Colab Notebooks/samples\"))\n",
        "DATA_DIR = \"/content/drive/MyDrive/Colab Notebooks/samples/Brain_Tumor\"\n",
        "os.listdir(f'{DATA_DIR}')"
      ],
      "execution_count": null,
      "outputs": []
    },
    {
      "cell_type": "code",
      "metadata": {
        "id": "1ITReEZwt8vz"
      },
      "source": [
        "data = ImageDataLoaders.from_folder(DATA_DIR, train=\".\", \n",
        "                                    valid_pct=0.2,\n",
        "                                    ds_tfms=aug_transforms(mult=1.0, do_flip=True, flip_vert=True, \n",
        "                                    max_warp=0, max_rotate=10.0, \n",
        "                                    max_zoom=1.1, max_lighting=0.2,\n",
        "                                    p_affine=0.75, mode='bilinear',\n",
        "                                    pad_mode='reflection',\n",
        "                                    align_corners=True, min_scale=1.0),\n",
        "                                    item_tfms=Resize(224),\n",
        "                                    bs=64,\n",
        "                                    val_bs=None,\n",
        "                                    num_workers=0,\n",
        "                                    batch_tfms=Normalize.from_stats(*imagenet_stats))"
      ],
      "execution_count": null,
      "outputs": []
    },
    {
      "cell_type": "code",
      "metadata": {
        "id": "BphbmxU4aoDJ"
      },
      "source": [
        "data.show_batch(nrows=4, figsize=(10,10))"
      ],
      "execution_count": null,
      "outputs": []
    },
    {
      "cell_type": "code",
      "metadata": {
        "id": "ScKNQFgrfh6K"
      },
      "source": [
        "learner = cnn_learner(data, models.resnet50, metrics=[accuracy, error_rate], cbs=[ShowGraphCallback()], model_dir=\"/tmp/model/\")"
      ],
      "execution_count": null,
      "outputs": []
    },
    {
      "cell_type": "code",
      "metadata": {
        "id": "y4USE57jfvHs"
      },
      "source": [
        "learner.lr_find()"
      ],
      "execution_count": null,
      "outputs": []
    },
    {
      "cell_type": "code",
      "metadata": {
        "id": "tNZm_HltoXj1"
      },
      "source": [
        "learner.model"
      ],
      "execution_count": null,
      "outputs": []
    },
    {
      "cell_type": "code",
      "metadata": {
        "id": "3qMDYhi3nm-J"
      },
      "source": [
        "learner.fit_one_cycle(6, lr_max=slice(8.32e-4), cbs=[ShowGraphCallback()])"
      ],
      "execution_count": null,
      "outputs": []
    },
    {
      "cell_type": "code",
      "metadata": {
        "id": "2wZ6AeGarIvf"
      },
      "source": [
        "learner.export(\"/content/drive/MyDrive/Colab Notebooks/pretrained_model/resnet/btc2.pkl\")"
      ],
      "execution_count": null,
      "outputs": []
    },
    {
      "cell_type": "code",
      "metadata": {
        "id": "NNOVxS4EvGiL"
      },
      "source": [
        "learner.unfreeze()"
      ],
      "execution_count": null,
      "outputs": []
    },
    {
      "cell_type": "code",
      "metadata": {
        "id": "Jrfsk2FOvtHX"
      },
      "source": [
        "learner.lr_find()"
      ],
      "execution_count": null,
      "outputs": []
    },
    {
      "cell_type": "code",
      "metadata": {
        "id": "gqxV_2TZw6Zi"
      },
      "source": [
        "learner.fit_one_cycle(6, lr_max=slice(5.754399353463668e-6), cbs=[ShowGraphCallback()])"
      ],
      "execution_count": null,
      "outputs": []
    },
    {
      "cell_type": "code",
      "metadata": {
        "id": "-4sjrBkE2nk5"
      },
      "source": [
        "learner.fit_one_cycle(4, lr_max=slice(2.7e-5), cbs=[ShowGraphCallback()])"
      ],
      "execution_count": null,
      "outputs": []
    },
    {
      "cell_type": "code",
      "metadata": {
        "id": "DL6E3JC-6aYm"
      },
      "source": [
        "learner.fit_one_cycle(4, lr_max=slice(2.9e-5), cbs=[ShowGraphCallback()])"
      ],
      "execution_count": null,
      "outputs": []
    },
    {
      "cell_type": "code",
      "metadata": {
        "id": "CBMVmqes3YbW"
      },
      "source": [
        "learner.export(\"/content/drive/MyDrive/Colab Notebooks/pretrained_model/resnet/final_resnet/btc_final2.pkl\")"
      ],
      "execution_count": null,
      "outputs": []
    },
    {
      "cell_type": "code",
      "metadata": {
        "id": "SwZrdh7334cP"
      },
      "source": [
        "interp = ClassificationInterpretation.from_learner(learner)"
      ],
      "execution_count": null,
      "outputs": []
    },
    {
      "cell_type": "code",
      "metadata": {
        "id": "y8pyLQVy4Afu"
      },
      "source": [
        "interp.plot_top_losses(25, figsize=(20,20))"
      ],
      "execution_count": null,
      "outputs": []
    },
    {
      "cell_type": "code",
      "metadata": {
        "id": "eB4E7-rO4Xk9"
      },
      "source": [
        "interp.plot_confusion_matrix(figsize=(8,8), dpi=60)"
      ],
      "execution_count": null,
      "outputs": []
    }
  ]
}