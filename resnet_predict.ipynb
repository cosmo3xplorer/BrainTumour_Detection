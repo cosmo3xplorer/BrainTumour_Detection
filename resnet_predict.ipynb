{
 "cells": [
  {
   "cell_type": "code",
   "execution_count": 1,
   "id": "cde7977c",
   "metadata": {},
   "outputs": [],
   "source": [
    "import numpy as np\n",
    "import pandas as pd\n",
    "import torch\n",
    "import keras\n",
    "import os, gc, pathlib\n",
    "from sklearn.metrics import confusion_matrix\n",
    "from fastai import *\n",
    "from fastai.vision.all import *\n",
    "from fastai.tabular.all import *\n",
    "from fastai.text.all import *\n",
    "#from fastai.medical.imaging import *\n",
    "from fastai.vision.data import ImageDataLoaders\n",
    "from fastai.vision.models import *\n",
    "import torchvision.models as models\n",
    "from fastai.callback.schedule import lr_find\n",
    "from fastai.callback.schedule import *\n",
    "from matplotlib import pyplot as plt\n",
    "from fastai.imports import *\n",
    "from fastai.torch_core import *\n",
    "from fastai.learner import *"
   ]
  },
  {
   "cell_type": "code",
   "execution_count": 2,
   "id": "ae077e8e",
   "metadata": {},
   "outputs": [],
   "source": [
    "learner=load_learner(\"C:\\\\Users\\\\Rajarshi\\\\Desktop\\\\python_project\\\\pre_train\\\\resnet\\\\train1\\\\brain_tumor_classific2.pkl\")"
   ]
  },
  {
   "cell_type": "code",
   "execution_count": 3,
   "id": "e5b1dcf1",
   "metadata": {},
   "outputs": [],
   "source": [
    "def is_true(x):\n",
    "    if x[0]=='yes':\n",
    "        return \"Tumor detected.\"\n",
    "    else:\n",
    "        return \"Tumor not detected.\""
   ]
  },
  {
   "cell_type": "code",
   "execution_count": 7,
   "id": "844a1cda",
   "metadata": {},
   "outputs": [],
   "source": [
    "img=PILImage.create(f\"C:\\\\Users\\\\Rajarshi\\\\Desktop\\\\python_project\\\\samples\\\\yes\\\\y1043.jpg\")"
   ]
  },
  {
   "cell_type": "code",
   "execution_count": 8,
   "id": "34d4c405",
   "metadata": {},
   "outputs": [
    {
     "data": {
      "text/html": [],
      "text/plain": [
       "<IPython.core.display.HTML object>"
      ]
     },
     "metadata": {},
     "output_type": "display_data"
    }
   ],
   "source": [
    "x=learner.predict(img)"
   ]
  },
  {
   "cell_type": "code",
   "execution_count": 9,
   "id": "e346adce",
   "metadata": {},
   "outputs": [
    {
     "name": "stdout",
     "output_type": "stream",
     "text": [
      "Test Result: Tumor detected. \n",
      "Probability: tensor([3.5577e-07, 1.0000e+00])\n"
     ]
    }
   ],
   "source": [
    "print(\"Test Result:\",is_true(x),\"\\nProbability:\",x[2])"
   ]
  },
  {
   "cell_type": "code",
   "execution_count": null,
   "id": "ddf36d9d",
   "metadata": {},
   "outputs": [],
   "source": []
  }
 ],
 "metadata": {
  "kernelspec": {
   "display_name": "Python 3",
   "language": "python",
   "name": "python3"
  },
  "language_info": {
   "codemirror_mode": {
    "name": "ipython",
    "version": 3
   },
   "file_extension": ".py",
   "mimetype": "text/x-python",
   "name": "python",
   "nbconvert_exporter": "python",
   "pygments_lexer": "ipython3",
   "version": "3.9.6"
  }
 },
 "nbformat": 4,
 "nbformat_minor": 5
}
